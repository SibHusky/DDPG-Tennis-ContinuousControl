{
 "cells": [
  {
   "cell_type": "markdown",
   "metadata": {},
   "source": [
    "# Collaboration and Competition\n",
    "\n",
    "---\n",
    "\n",
    "In this notebook, you will learn how to use the Unity ML-Agents environment for the third project of the [Deep Reinforcement Learning Nanodegree](https://www.udacity.com/course/deep-reinforcement-learning-nanodegree--nd893) program.\n",
    "\n",
    "### 1. Start the Environment\n",
    "\n",
    "We begin by importing the necessary packages.  If the code cell below returns an error, please revisit the project instructions to double-check that you have installed [Unity ML-Agents](https://github.com/Unity-Technologies/ml-agents/blob/master/docs/Installation.md) and [NumPy](http://www.numpy.org/)."
   ]
  },
  {
   "cell_type": "code",
   "execution_count": 1,
   "metadata": {},
   "outputs": [],
   "source": [
    "from unityagents import UnityEnvironment\n",
    "import numpy as np\n",
    "\n",
    "import random\n",
    "import torch\n",
    "from collections import deque\n",
    "import matplotlib.pyplot as plt\n",
    "%matplotlib inline\n",
    "\n",
    "from ddpg_agent import Agent"
   ]
  },
  {
   "cell_type": "markdown",
   "metadata": {},
   "source": [
    "Next, we will start the environment!  **_Before running the code cell below_**, change the `file_name` parameter to match the location of the Unity environment that you downloaded.\n",
    "\n",
    "- **Mac**: `\"path/to/Tennis.app\"`\n",
    "- **Windows** (x86): `\"path/to/Tennis_Windows_x86/Tennis.exe\"`\n",
    "- **Windows** (x86_64): `\"path/to/Tennis_Windows_x86_64/Tennis.exe\"`\n",
    "- **Linux** (x86): `\"path/to/Tennis_Linux/Tennis.x86\"`\n",
    "- **Linux** (x86_64): `\"path/to/Tennis_Linux/Tennis.x86_64\"`\n",
    "- **Linux** (x86, headless): `\"path/to/Tennis_Linux_NoVis/Tennis.x86\"`\n",
    "- **Linux** (x86_64, headless): `\"path/to/Tennis_Linux_NoVis/Tennis.x86_64\"`\n",
    "\n",
    "For instance, if you are using a Mac, then you downloaded `Tennis.app`.  If this file is in the same folder as the notebook, then the line below should appear as follows:\n",
    "```\n",
    "env = UnityEnvironment(file_name=\"Tennis.app\")\n",
    "```"
   ]
  },
  {
   "cell_type": "code",
   "execution_count": 2,
   "metadata": {},
   "outputs": [
    {
     "name": "stderr",
     "output_type": "stream",
     "text": [
      "INFO:unityagents:\n",
      "'Academy' started successfully!\n",
      "Unity Academy name: Academy\n",
      "        Number of Brains: 1\n",
      "        Number of External Brains : 1\n",
      "        Lesson number : 0\n",
      "        Reset Parameters :\n",
      "\t\t\n",
      "Unity brain name: TennisBrain\n",
      "        Number of Visual Observations (per agent): 0\n",
      "        Vector Observation space type: continuous\n",
      "        Vector Observation space size (per agent): 8\n",
      "        Number of stacked Vector Observation: 3\n",
      "        Vector Action space type: continuous\n",
      "        Vector Action space size (per agent): 2\n",
      "        Vector Action descriptions: , \n"
     ]
    }
   ],
   "source": [
    "env = UnityEnvironment(file_name=r'..\\DDPG-Tennis-ContinuousControl\\Tennis_Windows_x86_64\\Tennis.app')"
   ]
  },
  {
   "cell_type": "markdown",
   "metadata": {},
   "source": [
    "Environments contain **_brains_** which are responsible for deciding the actions of their associated agents. Here we check for the first brain available, and set it as the default brain we will be controlling from Python."
   ]
  },
  {
   "cell_type": "code",
   "execution_count": 3,
   "metadata": {},
   "outputs": [],
   "source": [
    "# get the default brain\n",
    "brain_name = env.brain_names[0]\n",
    "brain = env.brains[brain_name]"
   ]
  },
  {
   "cell_type": "markdown",
   "metadata": {},
   "source": [
    "### 2. Examine the State and Action Spaces\n",
    "\n",
    "In this environment, two agents control rackets to bounce a ball over a net. If an agent hits the ball over the net, it receives a reward of +0.1.  If an agent lets a ball hit the ground or hits the ball out of bounds, it receives a reward of -0.01.  Thus, the goal of each agent is to keep the ball in play.\n",
    "\n",
    "The observation space consists of 8 variables corresponding to the position and velocity of the ball and racket. Two continuous actions are available, corresponding to movement toward (or away from) the net, and jumping. \n",
    "\n",
    "Run the code cell below to print some information about the environment."
   ]
  },
  {
   "cell_type": "code",
   "execution_count": 4,
   "metadata": {},
   "outputs": [
    {
     "name": "stdout",
     "output_type": "stream",
     "text": [
      "Number of agents: 2\n",
      "Size of each action: 2\n",
      "There are 2 agents. Each observes a state with length: 24\n",
      "The state for the first agent looks like: [ 0.          0.          0.          0.          0.          0.\n",
      "  0.          0.          0.          0.          0.          0.\n",
      "  0.          0.          0.          0.         -6.65278625 -1.5\n",
      " -0.          0.          6.83172083  6.         -0.          0.        ]\n"
     ]
    }
   ],
   "source": [
    "# reset the environment\n",
    "env_info = env.reset(train_mode=True)[brain_name]\n",
    "\n",
    "# number of agents \n",
    "num_agents = len(env_info.agents)\n",
    "print('Number of agents:', num_agents)\n",
    "\n",
    "# size of each action\n",
    "action_size = brain.vector_action_space_size\n",
    "print('Size of each action:', action_size)\n",
    "\n",
    "# examine the state space \n",
    "states = env_info.vector_observations\n",
    "state_size = states.shape[1]\n",
    "print('There are {} agents. Each observes a state with length: {}'.format(states.shape[0], state_size))\n",
    "print('The state for the first agent looks like:', states[0])"
   ]
  },
  {
   "cell_type": "markdown",
   "metadata": {},
   "source": [
    "### 3. Take Random Actions in the Environment\n",
    "\n",
    "In the next code cell, you will learn how to use the Python API to control the agents and receive feedback from the environment.\n",
    "\n",
    "Once this cell is executed, you will watch the agents' performance, if they select actions at random with each time step.  A window should pop up that allows you to observe the agents.\n",
    "\n",
    "Of course, as part of the project, you'll have to change the code so that the agents are able to use their experiences to gradually choose better actions when interacting with the environment!"
   ]
  },
  {
   "cell_type": "code",
   "execution_count": 10,
   "metadata": {},
   "outputs": [],
   "source": [
    "#Hyperparameter tuning\n",
    "######################\n",
    "\n",
    "BUFFER_SIZE = int(5e5)  # replay buffer size\n",
    "BATCH_SIZE = 256        # minibatch size\n",
    "START_LEARNING = 40\n",
    "GAMMA = 0.99            # discount factor\n",
    "TAU = 1e-3              # for soft update of target parameters\n",
    "LR_ACTOR = 1e-3         # learning rate of the actor \n",
    "LR_CRITIC = 1e-3        # learning rate of the critic\n",
    "WEIGHT_DECAY = 0        # L2 weight decay\n",
    "EPSILON_DECAY = 0.995\n",
    "UPDATE_EVERY = 20\n",
    "UPDATE_TIMES = 10\n",
    "SEED = 23 \n",
    "EPSILON = 1.0\n",
    "\n",
    "MU = 0.\n",
    "THETA = 0.175\n",
    "SIGMA = 0.01\n"
   ]
  },
  {
   "cell_type": "code",
   "execution_count": 11,
   "metadata": {
    "scrolled": true
   },
   "outputs": [
    {
     "name": "stdout",
     "output_type": "stream",
     "text": [
      "Episode 100\tAverage100 Score: 0.01\tScore: 0.10\tBuffer: 1812\tNoise_mean: 0.0214\tEps: 1.0000\n",
      "Episode 200\tAverage100 Score: 0.01\tScore: 0.00\tBuffer: 3621\tNoise_mean: 0.0041\tEps: 1.0000\n",
      "Episode 300\tAverage100 Score: 0.01\tScore: 0.00\tBuffer: 5549\tNoise_mean: 0.0214\tEps: 1.0000\n",
      "Episode 400\tAverage100 Score: 0.00\tScore: 0.00\tBuffer: 7392\tNoise_mean: 0.0310\tEps: 1.0000\n",
      "Episode 500\tAverage100 Score: 0.00\tScore: 0.00\tBuffer: 9146\tNoise_mean: 0.0158\tEps: 1.0000\n",
      "Episode 600\tAverage100 Score: 0.01\tScore: 0.00\tBuffer: 10851\tNoise_mean: 0.0233\tEps: 0.2223\n",
      "Episode 700\tAverage100 Score: 0.01\tScore: 0.00\tBuffer: 12507\tNoise_mean: 0.0167\tEps: 0.0035\n",
      "Episode 800\tAverage100 Score: 0.00\tScore: 0.00\tBuffer: 14021\tNoise_mean: 0.0026\tEps: 0.0010\n",
      "Episode 900\tAverage100 Score: 0.00\tScore: 0.00\tBuffer: 15491\tNoise_mean: 0.0215\tEps: 0.0010\n",
      "Episode 1000\tAverage100 Score: 0.02\tScore: 0.10\tBuffer: 17169\tNoise_mean: 0.0221\tEps: 0.0010\n",
      "Episode 1100\tAverage100 Score: 0.06\tScore: 0.00\tBuffer: 19685\tNoise_mean: 0.0158\tEps: 0.0010\n",
      "Episode 1200\tAverage100 Score: 0.04\tScore: 0.10\tBuffer: 21840\tNoise_mean: 0.0299\tEps: 0.0010\n",
      "Episode 1300\tAverage100 Score: 0.10\tScore: 0.09\tBuffer: 25092\tNoise_mean: 0.0316\tEps: 0.0010\n",
      "Episode 1400\tAverage100 Score: 0.11\tScore: 0.20\tBuffer: 29439\tNoise_mean: 0.0328\tEps: 0.0010\n",
      "Episode 1500\tAverage100 Score: 0.15\tScore: 0.20\tBuffer: 35800\tNoise_mean: 0.0337\tEps: 0.0010\n",
      "Episode 1559\tAverage100 Score: 0.51\tScore: 2.10\tBuffer: 52991\tNoise_mean: 0.0208\tEps: 0.0010\n",
      "Environment solved! \tAverage100 Score: 0.51\tEpisodes: 1559\n"
     ]
    },
    {
     "data": {
      "image/png": "[encoded data removed]",
      "text/plain": [
       "<Figure size 432x288 with 1 Axes>"
      ]
     },
     "metadata": {
      "needs_background": "light"
     },
     "output_type": "display_data"
    }
   ],
   "source": [
    "#Training Agent\n",
    "def ddpg(agent, n_episodes=10000):\n",
    "    scores_deque = deque(maxlen=100)\n",
    "    episode_score = 0\n",
    "    all_scores = []\n",
    "    max_score = -np.Inf\n",
    "    scores = np.zeros(num_agents)\n",
    "    \n",
    "    all_eps = []\n",
    "    all_noise_mean = []\n",
    "    \n",
    "    for i_episode in range(1, n_episodes+1):\n",
    "        env_info = env.reset(train_mode=True)[brain_name]\n",
    "        state = env_info.vector_observations\n",
    "        #agent.reset()\n",
    "        score = 0\n",
    "        scores = np.zeros(num_agents)\n",
    "        while True:\n",
    "            action = agent.act(state, add_noise = True)\n",
    "            env_info = env.step(action)[brain_name]\n",
    "            next_state = env_info.vector_observations        \n",
    "            reward = env_info.rewards\n",
    "            done = env_info.local_done  \n",
    "            agent.step(state, action, [[reward[0]],[reward[1]]], next_state, [[done[0]],[done[1]]])\n",
    "            state = next_state\n",
    "            scores += reward\n",
    "           \n",
    "            if np.any(done):                                  \n",
    "                break\n",
    "        eps = agent.get_epsilon()\n",
    "        noise_mean = agent.get_noise_mean()\n",
    "        all_eps.append(eps)\n",
    "        all_noise_mean.append(noise_mean)\n",
    "        \n",
    "        episode_score = np.max(scores)\n",
    "        scores_deque.append(episode_score)\n",
    "        all_scores.append(episode_score)\n",
    "        score100 = np.mean(scores_deque)\n",
    "        #print (\"Score: {} \\t Reward: {} \\tscore100: {}\".format(scores, reward,score100))\n",
    "        l_buff = len(agent.RepMem)\n",
    "        print('\\rEpisode {}\\tAverage100 Score: {:.2f}\\tScore: {:.2f}\\tBuffer: {}\\tNoise_mean: {:.4f}\\tEps: {:.4f}'.format(i_episode,score100,episode_score,l_buff,noise_mean,eps) , end=\"\")\n",
    "        if i_episode % 100 == 0:\n",
    "            print('\\rEpisode {}\\tAverage100 Score: {:.2f}'.format(i_episode, score100))\n",
    "        if score100 > 0.5:\n",
    "            print('\\rEpisode {}\\tAverage100 Score: {:.2f}\\tScore: {:.2f}\\tBuffer: {}\\tNoise_mean: {:.4f}\\tEps: {:.4f}'.format(i_episode,score100,episode_score,l_buff,noise_mean,eps))\n",
    "            print ('Environment solved! \\tAverage100 Score: {:.2f}\\tEpisodes: {}'.format(score100,i_episode))\n",
    "            torch.save(agent.actor_local.state_dict(), 'checkpoint_actor.pth')\n",
    "            torch.save(agent.critic_local.state_dict(), 'checkpoint_critic.pth')\n",
    "            break\n",
    "    return all_scores, all_eps, all_noise_mean\n",
    "\n",
    "James = Agent(state_size, action_size, BUFFER_SIZE, BATCH_SIZE, GAMMA, TAU, LR_ACTOR, LR_CRITIC, WEIGHT_DECAY, EPSILON, EPSILON_DECAY, UPDATE_EVERY, UPDATE_TIMES,START_LEARNING, SEED, MU, THETA, SIGMA)\n",
    "all_scores, all_eps, all_noise_mean = ddpg(James)\n",
    "\n",
    "scores_deque = deque(maxlen=100)\n",
    "av100_score = []\n",
    "\n",
    "for score in all_scores:\n",
    "    scores_deque.append(score)\n",
    "    av100_score.append(np.mean(scores_deque))\n",
    "\n",
    "fig = plt.figure()\n",
    "ax = fig.add_subplot(111)\n",
    "plt.plot(np.arange(1, len(all_scores)+1), all_scores)\n",
    "plt.plot(np.arange(1, len(av100_score)+1), av100_score)\n",
    "plt.ylabel('Score')\n",
    "plt.xlabel('Episode #')\n",
    "plt.legend(['Score','Average100'],loc='upper left')\n",
    "plt.show()"
   ]
  },
  {
   "cell_type": "code",
   "execution_count": 12,
   "metadata": {},
   "outputs": [],
   "source": [
    "import pickle\n",
    "\n",
    "# An arbitrary collection of objects supported by pickle.\n",
    "data = {\n",
    "    'scores': all_scores,\n",
    "    'eps': all_eps,\n",
    "    'noise': all_noise_mean\n",
    "}\n",
    "\n",
    "with open('data#.pickle', 'wb') as f:\n",
    "    # Pickle the 'data' dictionary using the highest protocol available.\n",
    "    pickle.dump(data, f, pickle.HIGHEST_PROTOCOL)"
   ]
  },
  {
   "cell_type": "code",
   "execution_count": 13,
   "metadata": {},
   "outputs": [],
   "source": [
    "env.close()"
   ]
  }
 ],
 "metadata": {
  "kernelspec": {
   "display_name": "Python 3",
   "language": "python",
   "name": "python3"
  },
  "language_info": {
   "codemirror_mode": {
    "name": "ipython",
    "version": 3
   },
   "file_extension": ".py",
   "mimetype": "text/x-python",
   "name": "python",
   "nbconvert_exporter": "python",
   "pygments_lexer": "ipython3",
   "version": "3.6.8"
  }
 },
 "nbformat": 4,
 "nbformat_minor": 2
}
